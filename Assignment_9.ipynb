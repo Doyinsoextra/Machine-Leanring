{
 "cells": [
  {
   "cell_type": "markdown",
   "id": "ea4f71cc-3255-4283-93c1-da83a00d1b0d",
   "metadata": {
    "id": "ea4f71cc-3255-4283-93c1-da83a00d1b0d"
   },
   "source": [
    "# Assignment 7 (Week 9)\n",
    "\n",
    ">**Note**: \n",
    "\n",
    "```\n",
    "- Late submissions are penalized.\n",
    "- Only GitHub submissions are acceptable.\n",
    "- Remember to read the `instructions` carefully.\n",
    "```\n",
    "\n",
    "## Name: OGUNSEYE DEBORAH ADEDOYIN\n",
    "\n",
    "<br>\n",
    "\n",
    "## Please show and display ALL your calculations and results.\n"
   ]
  },
  {
   "cell_type": "code",
   "execution_count": 62,
   "id": "7f659c96-b085-483c-960c-16b53a0312e3",
   "metadata": {
    "id": "7f659c96-b085-483c-960c-16b53a0312e3"
   },
   "outputs": [],
   "source": [
    "# Built-in library\n",
    "import itertools\n",
    "import re\n",
    "from typing import Any, Optional, Sequence, Union\n",
    "\n",
    "# Standard imports\n",
    "import numpy as np\n",
    "import pandas as pd\n",
    "import matplotlib.pyplot as plt\n",
    "import seaborn as sns\n",
    "\n",
    "\n",
    "# pandas settings\n",
    "pd.options.display.max_rows = 1_000\n",
    "pd.options.display.max_columns = 1_000\n",
    "pd.options.display.max_colwidth = 1_000"
   ]
  },
  {
   "cell_type": "code",
   "execution_count": 63,
   "id": "932f4a08-92f6-4c8d-b5b7-084e13f572b7",
   "metadata": {},
   "outputs": [],
   "source": [
    "# Lets define a function that loads our data"
   ]
  },
  {
   "cell_type": "code",
   "execution_count": 64,
   "id": "ffed0267-e8b6-4bb2-ba37-34771056f387",
   "metadata": {
    "id": "ffed0267-e8b6-4bb2-ba37-34771056f387"
   },
   "outputs": [],
   "source": [
    "def load_data(*, filename: str, sep: str =',') -> pd.DataFrame:\n",
    "    data = pd.read_csv(filename, sep=sep)\n",
    "    print(f\"shape of data: {data.shape}\\n\")\n",
    "    return data "
   ]
  },
  {
   "cell_type": "code",
   "execution_count": 65,
   "id": "10d6ec1e-c5a9-4fc3-b00e-aa9f3966e96f",
   "metadata": {
    "id": "10d6ec1e-c5a9-4fc3-b00e-aa9f3966e96f"
   },
   "outputs": [
    {
     "name": "stdout",
     "output_type": "stream",
     "text": [
      "shape of data: (4150, 10)\n",
      "\n"
     ]
    },
    {
     "data": {
      "text/html": [
       "<div>\n",
       "<style scoped>\n",
       "    .dataframe tbody tr th:only-of-type {\n",
       "        vertical-align: middle;\n",
       "    }\n",
       "\n",
       "    .dataframe tbody tr th {\n",
       "        vertical-align: top;\n",
       "    }\n",
       "\n",
       "    .dataframe thead th {\n",
       "        text-align: right;\n",
       "    }\n",
       "</style>\n",
       "<table border=\"1\" class=\"dataframe\">\n",
       "  <thead>\n",
       "    <tr style=\"text-align: right;\">\n",
       "      <th></th>\n",
       "      <th>Review_Title</th>\n",
       "      <th>Review_Text</th>\n",
       "      <th>Verified_Buyer</th>\n",
       "      <th>Review_Date</th>\n",
       "      <th>Review_Location</th>\n",
       "      <th>Review_Upvotes</th>\n",
       "      <th>Review_Downvotes</th>\n",
       "      <th>Product</th>\n",
       "      <th>Brand</th>\n",
       "      <th>Scrape_Date</th>\n",
       "    </tr>\n",
       "  </thead>\n",
       "  <tbody>\n",
       "    <tr>\n",
       "      <th>0</th>\n",
       "      <td>Perfect</td>\n",
       "      <td>Love using this on my face while in the shower. Heats up and gives a light scrub nicely</td>\n",
       "      <td>No</td>\n",
       "      <td>15 days ago</td>\n",
       "      <td>Undisclosed</td>\n",
       "      <td>0</td>\n",
       "      <td>0</td>\n",
       "      <td>Multi-Vitamin Thermafoliant</td>\n",
       "      <td>Dermalogica</td>\n",
       "      <td>3/27/23</td>\n",
       "    </tr>\n",
       "    <tr>\n",
       "      <th>1</th>\n",
       "      <td>You need this</td>\n",
       "      <td>Even better than the daily microfoliant. I'm obsessed. My skin is SO MUCH smoother</td>\n",
       "      <td>No</td>\n",
       "      <td>27 days ago</td>\n",
       "      <td>Undisclosed</td>\n",
       "      <td>0</td>\n",
       "      <td>0</td>\n",
       "      <td>Multi-Vitamin Thermafoliant</td>\n",
       "      <td>Dermalogica</td>\n",
       "      <td>3/27/23</td>\n",
       "    </tr>\n",
       "    <tr>\n",
       "      <th>2</th>\n",
       "      <td>Clean skin</td>\n",
       "      <td>Enjoy this product so much ! I look forward to using it - really feels great.</td>\n",
       "      <td>No</td>\n",
       "      <td>2 months ago</td>\n",
       "      <td>Undisclosed</td>\n",
       "      <td>0</td>\n",
       "      <td>0</td>\n",
       "      <td>Multi-Vitamin Thermafoliant</td>\n",
       "      <td>Dermalogica</td>\n",
       "      <td>3/27/23</td>\n",
       "    </tr>\n",
       "  </tbody>\n",
       "</table>\n",
       "</div>"
      ],
      "text/plain": [
       "    Review_Title   \n",
       "0        Perfect  \\\n",
       "1  You need this   \n",
       "2     Clean skin   \n",
       "\n",
       "                                                                               Review_Text   \n",
       "0  Love using this on my face while in the shower. Heats up and gives a light scrub nicely  \\\n",
       "1       Even better than the daily microfoliant. I'm obsessed. My skin is SO MUCH smoother   \n",
       "2            Enjoy this product so much ! I look forward to using it - really feels great.   \n",
       "\n",
       "  Verified_Buyer   Review_Date Review_Location  Review_Upvotes   \n",
       "0             No   15 days ago     Undisclosed               0  \\\n",
       "1             No   27 days ago     Undisclosed               0   \n",
       "2             No  2 months ago     Undisclosed               0   \n",
       "\n",
       "   Review_Downvotes                      Product        Brand Scrape_Date  \n",
       "0                 0  Multi-Vitamin Thermafoliant  Dermalogica     3/27/23  \n",
       "1                 0  Multi-Vitamin Thermafoliant  Dermalogica     3/27/23  \n",
       "2                 0  Multi-Vitamin Thermafoliant  Dermalogica     3/27/23  "
      ]
     },
     "execution_count": 65,
     "metadata": {},
     "output_type": "execute_result"
    }
   ],
   "source": [
    "data = load_data(filename='Ulta Skincare Reviews.csv')\n",
    "data.head(3)"
   ]
  },
  {
   "cell_type": "markdown",
   "id": "172f8480-1c1d-46b3-a205-87f96b140b69",
   "metadata": {
    "id": "172f8480-1c1d-46b3-a205-87f96b140b69"
   },
   "source": [
    "> Data source is from **Kaggle**. To complete this assignment, you **must create an account** with **Kaggle**.\n",
    "\n",
    "- The data can be found [here](https://www.kaggle.com/datasets/nenamalikah/nlp-ulta-skincare-reviews).\n",
    "\n",
    "### Data Dictionary\n",
    "\n",
    "```\n",
    "- Review Title: The title of the review.\n",
    "- Review_Text: The full text of the review.\n",
    "- Verified_Buyer: Whether the reviewer is a verified buyer of the product.\n",
    "- Review_Date: The date the review was published relative to the review scrape date.\n",
    "- Review_Location: The location of the reviewer.\n",
    "- Review_Upvotes: How many times the review was upvoted by other reviewers.\n",
    "- Review_Downvotes: How many times the review was downvoted by other reviewers.\n",
    "- Product: The name of the product the review was issued for.\n",
    "- Brand: The brand of the product.\n",
    "- Scrape Date: The date the data was pulled from the web.\n",
    "```\n",
    "\n",
    "### Objectives\n",
    "\n",
    "```\n",
    "1. Exploratory Data Analysis.\n",
    "\n",
    "2. Research and experimentation.\n",
    "\n",
    "3. Sentiments Analysis.\n",
    "\n",
    "```\n",
    "\n",
    "## Note: \n",
    "\n",
    "- The assignment **should** be submitted through a `public` GitHub repository.\n",
    "\n",
    "<br><hr>"
   ]
  },
  {
   "cell_type": "markdown",
   "id": "35397296-515a-40b0-a7a7-04ddfdff2c4b",
   "metadata": {
    "id": "35397296-515a-40b0-a7a7-04ddfdff2c4b"
   },
   "source": [
    "###  Qs 1. Explore the data. What can the reviews tell us about the products? Do most buyers have common skincare issues? What issues did the products help solve or exacerbate?\n"
   ]
  },
  {
   "cell_type": "markdown",
   "id": "d8918619-cd68-4cb0-a526-e64b358e071e",
   "metadata": {
    "id": "a0038bcd-5c4a-44f9-abe7-e3887fec07aa"
   },
   "source": [
    "Data Pre-Processing"
   ]
  },
  {
   "cell_type": "code",
   "execution_count": 66,
   "id": "2e0d3a49-67a1-433d-a7f8-6ff80d5ef799",
   "metadata": {
    "id": "2e0d3a49-67a1-433d-a7f8-6ff80d5ef799"
   },
   "outputs": [
    {
     "name": "stdout",
     "output_type": "stream",
     "text": [
      "<class 'pandas.core.frame.DataFrame'>\n",
      "RangeIndex: 4150 entries, 0 to 4149\n",
      "Data columns (total 10 columns):\n",
      " #   Column            Non-Null Count  Dtype \n",
      "---  ------            --------------  ----- \n",
      " 0   Review_Title      4150 non-null   object\n",
      " 1   Review_Text       4147 non-null   object\n",
      " 2   Verified_Buyer    4150 non-null   object\n",
      " 3   Review_Date       4150 non-null   object\n",
      " 4   Review_Location   4149 non-null   object\n",
      " 5   Review_Upvotes    4150 non-null   int64 \n",
      " 6   Review_Downvotes  4150 non-null   int64 \n",
      " 7   Product           4150 non-null   object\n",
      " 8   Brand             4150 non-null   object\n",
      " 9   Scrape_Date       4150 non-null   object\n",
      "dtypes: int64(2), object(8)\n",
      "memory usage: 324.3+ KB\n"
     ]
    }
   ],
   "source": [
    "data.info()"
   ]
  },
  {
   "cell_type": "code",
   "execution_count": 67,
   "id": "433bc74d-6a56-4f77-90be-7d848324ec94",
   "metadata": {
    "id": "433bc74d-6a56-4f77-90be-7d848324ec94"
   },
   "outputs": [
    {
     "data": {
      "text/html": [
       "<div>\n",
       "<style scoped>\n",
       "    .dataframe tbody tr th:only-of-type {\n",
       "        vertical-align: middle;\n",
       "    }\n",
       "\n",
       "    .dataframe tbody tr th {\n",
       "        vertical-align: top;\n",
       "    }\n",
       "\n",
       "    .dataframe thead th {\n",
       "        text-align: right;\n",
       "    }\n",
       "</style>\n",
       "<table border=\"1\" class=\"dataframe\">\n",
       "  <thead>\n",
       "    <tr style=\"text-align: right;\">\n",
       "      <th></th>\n",
       "      <th>Review_Upvotes</th>\n",
       "      <th>Review_Downvotes</th>\n",
       "    </tr>\n",
       "  </thead>\n",
       "  <tbody>\n",
       "    <tr>\n",
       "      <th>count</th>\n",
       "      <td>4150.000000</td>\n",
       "      <td>4150.000000</td>\n",
       "    </tr>\n",
       "    <tr>\n",
       "      <th>mean</th>\n",
       "      <td>0.591325</td>\n",
       "      <td>0.161205</td>\n",
       "    </tr>\n",
       "    <tr>\n",
       "      <th>std</th>\n",
       "      <td>2.210041</td>\n",
       "      <td>0.912561</td>\n",
       "    </tr>\n",
       "    <tr>\n",
       "      <th>min</th>\n",
       "      <td>0.000000</td>\n",
       "      <td>0.000000</td>\n",
       "    </tr>\n",
       "    <tr>\n",
       "      <th>25%</th>\n",
       "      <td>0.000000</td>\n",
       "      <td>0.000000</td>\n",
       "    </tr>\n",
       "    <tr>\n",
       "      <th>50%</th>\n",
       "      <td>0.000000</td>\n",
       "      <td>0.000000</td>\n",
       "    </tr>\n",
       "    <tr>\n",
       "      <th>75%</th>\n",
       "      <td>0.000000</td>\n",
       "      <td>0.000000</td>\n",
       "    </tr>\n",
       "    <tr>\n",
       "      <th>max</th>\n",
       "      <td>84.000000</td>\n",
       "      <td>35.000000</td>\n",
       "    </tr>\n",
       "  </tbody>\n",
       "</table>\n",
       "</div>"
      ],
      "text/plain": [
       "       Review_Upvotes  Review_Downvotes\n",
       "count     4150.000000       4150.000000\n",
       "mean         0.591325          0.161205\n",
       "std          2.210041          0.912561\n",
       "min          0.000000          0.000000\n",
       "25%          0.000000          0.000000\n",
       "50%          0.000000          0.000000\n",
       "75%          0.000000          0.000000\n",
       "max         84.000000         35.000000"
      ]
     },
     "execution_count": 67,
     "metadata": {},
     "output_type": "execute_result"
    }
   ],
   "source": [
    "data.describe()"
   ]
  },
  {
   "cell_type": "code",
   "execution_count": 68,
   "id": "c13de0ed-c934-42d4-a09e-ee211f09400b",
   "metadata": {},
   "outputs": [],
   "source": [
    "data = data.dropna() #Let's drop the nans since they are insignificant number of 4 items"
   ]
  },
  {
   "cell_type": "code",
   "execution_count": 69,
   "id": "bac21beb-737b-4fca-a8d2-99d658dba8c9",
   "metadata": {},
   "outputs": [
    {
     "data": {
      "text/plain": [
       "Review_Title        0\n",
       "Review_Text         0\n",
       "Verified_Buyer      0\n",
       "Review_Date         0\n",
       "Review_Location     0\n",
       "Review_Upvotes      0\n",
       "Review_Downvotes    0\n",
       "Product             0\n",
       "Brand               0\n",
       "Scrape_Date         0\n",
       "dtype: int64"
      ]
     },
     "execution_count": 69,
     "metadata": {},
     "output_type": "execute_result"
    }
   ],
   "source": [
    "data.isnull().sum() #To confirm that the nulls are off"
   ]
  },
  {
   "cell_type": "code",
   "execution_count": 70,
   "id": "4e177f85-b216-4442-91ef-f280dc96e6c9",
   "metadata": {},
   "outputs": [],
   "source": [
    "import nltk\n",
    "from nltk.corpus import stopwords"
   ]
  },
  {
   "cell_type": "markdown",
   "id": "c72812af-4a04-4b04-8735-d1445a2b7dfc",
   "metadata": {},
   "source": [
    "Text Pre-Processing"
   ]
  },
  {
   "cell_type": "code",
   "execution_count": 71,
   "id": "c366952c-4710-4194-a314-bd9a9c8e6a8b",
   "metadata": {},
   "outputs": [],
   "source": [
    "data['Review_Text'] = data['Review_Text'].str.lower() #to lower case wording\n",
    "data['Review_Text'] = data['Review_Text'].str.replace('[^\\w\\s]', '') #to remove punctuations \n",
    "data['Review_Text'] = data['Review_Text'].str.replace('\\d',' ') #to replace numbers in the reviews columns with nothing"
   ]
  },
  {
   "cell_type": "code",
   "execution_count": 72,
   "id": "e0b54e39-4de4-4241-92e9-26394ad174d5",
   "metadata": {},
   "outputs": [],
   "source": [
    "#Let's split our data for words not in stop_words\n",
    "stop_words = stopwords.words('english') \n",
    "data['Review_Text'] = data['Review_Text'].apply(\n",
    "    lambda x: \" \".join(x for x in str(x).split() if x not in stop_words))"
   ]
  },
  {
   "cell_type": "code",
   "execution_count": 73,
   "id": "edc3ea9e-dc2e-4aca-9e05-3fbf89cd9481",
   "metadata": {},
   "outputs": [],
   "source": [
    "from textblob import TextBlob #To process our textual data"
   ]
  },
  {
   "cell_type": "code",
   "execution_count": 74,
   "id": "9354f96c-7b82-4a43-9e09-293ae2974a96",
   "metadata": {},
   "outputs": [
    {
     "data": {
      "text/plain": [
       "0                                                                                                                  [love, using, face, shower, heats, gives, light, scrub, nicely]\n",
       "1                                                                                                       [even, better, daily, microfoliant, i, 'm, obsessed, skin, much, smoother]\n",
       "2                                                                                                               [enjoy, product, much, look, forward, using, really, feels, great]\n",
       "3    [i, 've, never, tried, anything, like, love, it, apply, face, get, little, shot, warm, feels, good, scrub, seems, gritty, side, effects, i, 've, encountered, positive, ones]\n",
       "4                                                                       [exfoliates, nicely, gives, smooth, skin, irritation, reaction, skin, highly, recommended, it, buy, again]\n",
       "Name: Review_Text, dtype: object"
      ]
     },
     "execution_count": 74,
     "metadata": {},
     "output_type": "execute_result"
    }
   ],
   "source": [
    "#Let's perform tokenization with TextBlob\n",
    "data['Review_Text'].apply(lambda x: TextBlob(x).words).head()"
   ]
  },
  {
   "cell_type": "code",
   "execution_count": 75,
   "id": "c4ad657e-3087-42a1-884e-bc304cd37a7c",
   "metadata": {},
   "outputs": [
    {
     "name": "stderr",
     "output_type": "stream",
     "text": [
      "[nltk_data] Downloading package wordnet to /Users/mac/nltk_data...\n",
      "[nltk_data]   Package wordnet is already up-to-date!\n"
     ]
    }
   ],
   "source": [
    "#dependencies to use lemmatizer\n",
    "import nltk\n",
    "nltk.download('wordnet')\n",
    "from nltk.stem import WordNetLemmatizer\n",
    "from nltk.tokenize import word_tokenize"
   ]
  },
  {
   "cell_type": "code",
   "execution_count": 76,
   "id": "9033361f-9187-43a1-9377-36f04d03da2c",
   "metadata": {},
   "outputs": [],
   "source": [
    "# create a lemmatizer object\n",
    "lemmatizer = WordNetLemmatizer()\n",
    "\n",
    "# Let's define a function to lemmatize text\n",
    "def lemmatize_text(text):\n",
    "    tokens = word_tokenize(text) # tokenize the text into words\n",
    "    lemmatized_text = ' '.join([lemmatizer.lemmatize(w) for w in tokens]) # lemmatize each word and join them back into a string\n",
    "    return lemmatized_text\n",
    "\n",
    "# apply the lemmatize_text function to the 'text' column of the DataFrame\n",
    "data['Review_Text'] = data['Review_Text'].apply(lemmatize_text)"
   ]
  },
  {
   "cell_type": "code",
   "execution_count": 77,
   "id": "0d92a385-876b-413d-a553-8f100afe8731",
   "metadata": {},
   "outputs": [
    {
     "data": {
      "text/html": [
       "<div>\n",
       "<style scoped>\n",
       "    .dataframe tbody tr th:only-of-type {\n",
       "        vertical-align: middle;\n",
       "    }\n",
       "\n",
       "    .dataframe tbody tr th {\n",
       "        vertical-align: top;\n",
       "    }\n",
       "\n",
       "    .dataframe thead th {\n",
       "        text-align: right;\n",
       "    }\n",
       "</style>\n",
       "<table border=\"1\" class=\"dataframe\">\n",
       "  <thead>\n",
       "    <tr style=\"text-align: right;\">\n",
       "      <th></th>\n",
       "      <th>words</th>\n",
       "      <th>counts</th>\n",
       "    </tr>\n",
       "  </thead>\n",
       "  <tbody>\n",
       "    <tr>\n",
       "      <th>0</th>\n",
       "      <td>love</td>\n",
       "      <td>1319.0</td>\n",
       "    </tr>\n",
       "    <tr>\n",
       "      <th>1</th>\n",
       "      <td>using</td>\n",
       "      <td>1261.0</td>\n",
       "    </tr>\n",
       "    <tr>\n",
       "      <th>2</th>\n",
       "      <td>face</td>\n",
       "      <td>1347.0</td>\n",
       "    </tr>\n",
       "    <tr>\n",
       "      <th>3</th>\n",
       "      <td>shower</td>\n",
       "      <td>106.0</td>\n",
       "    </tr>\n",
       "    <tr>\n",
       "      <th>4</th>\n",
       "      <td>.</td>\n",
       "      <td>11135.0</td>\n",
       "    </tr>\n",
       "  </tbody>\n",
       "</table>\n",
       "</div>"
      ],
      "text/plain": [
       "    words   counts\n",
       "0    love   1319.0\n",
       "1   using   1261.0\n",
       "2    face   1347.0\n",
       "3  shower    106.0\n",
       "4       .  11135.0"
      ]
     },
     "execution_count": 77,
     "metadata": {},
     "output_type": "execute_result"
    }
   ],
   "source": [
    "#Now let's count the most occuring word in the lemmzatized column\n",
    "counts = data['Review_Text'].apply(lambda x: pd.value_counts(\n",
    "    x.split(\" \"))).sum(axis=0).reset_index()\n",
    "\n",
    "counts.columns = [\"words\", \"counts\"] #to rename the columns\n",
    "counts.head()"
   ]
  },
  {
   "cell_type": "raw",
   "id": "747966e0-a2c9-49b2-9191-fc2db0989c80",
   "metadata": {},
   "source": [
    "The reviews can tell us that the customers love the product, and the issues it has been solving incluee face and shower issues"
   ]
  },
  {
   "cell_type": "code",
   "execution_count": 78,
   "id": "aab64bf9-5112-447c-af52-10e1bf912b7f",
   "metadata": {},
   "outputs": [],
   "source": [
    "import re\n",
    "from collections import Counter"
   ]
  },
  {
   "cell_type": "code",
   "execution_count": 79,
   "id": "d438bd92-ead4-478b-8b76-075b5dd6c731",
   "metadata": {},
   "outputs": [],
   "source": [
    "patterns = {\"face\": r\"face[\\w\\s]+use\",\n",
    "            \"difficulty\": r\"use[\\w\\s]+face\",\n",
    "            \"body\": r\"shower[\\w\\s]+(heat|damange|help|use|breakout)\",\n",
    "            \"skin\": r\"exfoliate[\\w\\s]+(heat|damage|help|rashes|issue|acne|skin|breakout)\"\n",
    "           }\n",
    "#Lets define a function that takes a string as an input and counts all in the patterns variable\n",
    "def count_issues(text):\n",
    "    Issue_Counts = Counter()\n",
    "    for issue, pattern in patterns.items():\n",
    "        if re.search(pattern, text, re.IGNORECASE):\n",
    "            Issue_Counts[issue] += 1\n",
    "    return Issue_Counts"
   ]
  },
  {
   "cell_type": "code",
   "execution_count": 80,
   "id": "9dd20348-01a8-4448-bba1-182c8603ed4f",
   "metadata": {},
   "outputs": [
    {
     "name": "stdout",
     "output_type": "stream",
     "text": [
      "Common issues faced by customers:\n",
      "skin: 114.0 occurrences\n",
      "difficulty: 134.0 occurrences\n",
      "face: 55.0 occurrences\n",
      "body: 5.0 occurrences\n"
     ]
    }
   ],
   "source": [
    "data['Issue_Counts'] = data['Review_Text'].apply(count_issues)\n",
    "\n",
    "Issue_Counts = pd.DataFrame(data['Issue_Counts'].tolist())\n",
    "Total_Counts = Issue_Counts.sum()\n",
    "\n",
    "# print the results\n",
    "print(\"Common issues faced by customers:\")\n",
    "for issue, count in Total_Counts.items():\n",
    "    print(f\"{issue}: {count} occurrences\")"
   ]
  },
  {
   "cell_type": "raw",
   "id": "5138c8da-f447-4e39-ba6d-2b6908b171c9",
   "metadata": {},
   "source": [
    "We can see in the Review_Text column, the common issues with customers are on their face more than body."
   ]
  },
  {
   "cell_type": "code",
   "execution_count": null,
   "id": "1e4b66cf-a391-4ae0-9c51-a79fb1f8c245",
   "metadata": {},
   "outputs": [],
   "source": []
  },
  {
   "cell_type": "markdown",
   "id": "98668910-b1f7-4932-9586-716f2d6139ad",
   "metadata": {
    "id": "98668910-b1f7-4932-9586-716f2d6139ad"
   },
   "source": [
    "###  Qs 2. Create a wordcloud showing the words/phrases commonly associated with each product."
   ]
  },
  {
   "cell_type": "raw",
   "id": "60baa322-0133-4b03-99ed-9188c1224dc6",
   "metadata": {
    "id": "c3f3df01-0e2c-4364-b694-222e65df8a2b"
   },
   "source": [
    "A word cloud is a technique to show which words are the most frequent in the given text"
   ]
  },
  {
   "cell_type": "code",
   "execution_count": 81,
   "id": "1a7447f7-a063-4fdb-bed1-51f1247de483",
   "metadata": {},
   "outputs": [],
   "source": [
    "from wordcloud import WordCloud, STOPWORDS"
   ]
  },
  {
   "cell_type": "code",
   "execution_count": 82,
   "id": "7305e215-00b8-4c74-80e0-585643b00fd4",
   "metadata": {
    "id": "7305e215-00b8-4c74-80e0-585643b00fd4"
   },
   "outputs": [],
   "source": [
    "text = \" \".join(cat for cat in data.Product) #Lets create a text variable that joins all column as a string"
   ]
  },
  {
   "cell_type": "code",
   "execution_count": 83,
   "id": "a5f13853-4b8d-4577-b7ff-8ea0756f78a1",
   "metadata": {},
   "outputs": [],
   "source": [
    "word_cloud = WordCloud(\n",
    "        width=3000,\n",
    "        height=2000,\n",
    "        random_state=1,\n",
    "        background_color=\"salmon\",\n",
    "        colormap=\"Pastel1\",\n",
    "        collocations=False,\n",
    "        stopwords=STOPWORDS,\n",
    "        ).generate(text)"
   ]
  },
  {
   "cell_type": "code",
   "execution_count": 85,
   "id": "b846581a-5aa2-45df-8f62-7a132c20696a",
   "metadata": {},
   "outputs": [
    {
     "data": {
      "image/png": "[encoded data removed]",
      "text/plain": [
       "<Figure size 640x480 with 1 Axes>"
      ]
     },
     "metadata": {},
     "output_type": "display_data"
    }
   ],
   "source": [
    " # Display the generated Word Cloud\n",
    "plt.imshow(word_cloud)\n",
    "plt.axis(\"off\")\n",
    "plt.show()"
   ]
  },
  {
   "cell_type": "markdown",
   "id": "90a01b86-7cc0-4518-a8f8-02af588a4cf7",
   "metadata": {
    "id": "90a01b86-7cc0-4518-a8f8-02af588a4cf7"
   },
   "source": [
    "### Qs 3. Perform sentiment analysis. Build a ML model that can predict whether a review is positive or negative."
   ]
  },
  {
   "cell_type": "raw",
   "id": "e3260a42-9626-45b6-b035-3b9f0e308f5a",
   "metadata": {
    "id": "d882c622-c472-43dd-b2e5-77468f263249"
   },
   "source": [
    "Sentiment analysis is an approach to natural language processing (NLP) that identifies the emotional tone behind a body of text. \n",
    "\n",
    "This is a way in which companies categorize opinions about a particular idea or product."
   ]
  },
  {
   "cell_type": "code",
   "execution_count": 86,
   "id": "509fe1b2-5375-4109-ab4e-1972bcedb43a",
   "metadata": {
    "id": "509fe1b2-5375-4109-ab4e-1972bcedb43a"
   },
   "outputs": [
    {
     "name": "stderr",
     "output_type": "stream",
     "text": [
      "[nltk_data] Downloading package vader_lexicon to\n",
      "[nltk_data]     /Users/mac/nltk_data...\n",
      "[nltk_data]   Package vader_lexicon is already up-to-date!\n"
     ]
    },
    {
     "data": {
      "text/plain": [
       "True"
      ]
     },
     "execution_count": 86,
     "metadata": {},
     "output_type": "execute_result"
    }
   ],
   "source": [
    "nltk.download('vader_lexicon')"
   ]
  },
  {
   "cell_type": "code",
   "execution_count": 87,
   "id": "51c4c104-829d-45a3-9663-e3538da7b27d",
   "metadata": {
    "id": "51c4c104-829d-45a3-9663-e3538da7b27d"
   },
   "outputs": [],
   "source": [
    "# import relevant sentiment analysis package\n",
    "from nltk.sentiment import SentimentIntensityAnalyzer\n",
    "from tqdm.notebook import tqdm"
   ]
  },
  {
   "cell_type": "code",
   "execution_count": 88,
   "id": "3ec7d5fa-1a2f-485a-887d-b52091f2f2d8",
   "metadata": {},
   "outputs": [],
   "source": [
    "#To create an object with the Sentiment class\n",
    "SIA = SentimentIntensityAnalyzer()"
   ]
  },
  {
   "cell_type": "raw",
   "id": "3e5fa4ef-6486-4e3c-a500-325b046fbc07",
   "metadata": {},
   "source": [
    "Polarity scores is a method of using SIA, this examines wording in a text and grades them as positive, neautral or compound based on some key word used in the column. This is what we call sentiments score"
   ]
  },
  {
   "cell_type": "code",
   "execution_count": 90,
   "id": "938fa1d0-3534-4dac-8e09-19a953ba24a9",
   "metadata": {},
   "outputs": [],
   "source": [
    "#Let's apply polarity scores to the values in Review_Text column\n",
    "data['Sentiments'] = data['Review_Text'].apply(lambda x: SIA.polarity_scores(x))\n",
    "\n",
    "#\n",
    "reviews_df = pd.concat([data.drop(['Sentiments'], axis=1), data['Sentiments'].apply(pd.Series)], axis=1)"
   ]
  },
  {
   "cell_type": "code",
   "execution_count": 92,
   "id": "caa07736-f61a-4594-a132-524fdf5599ae",
   "metadata": {},
   "outputs": [
    {
     "data": {
      "text/html": [
       "<div>\n",
       "<style scoped>\n",
       "    .dataframe tbody tr th:only-of-type {\n",
       "        vertical-align: middle;\n",
       "    }\n",
       "\n",
       "    .dataframe tbody tr th {\n",
       "        vertical-align: top;\n",
       "    }\n",
       "\n",
       "    .dataframe thead th {\n",
       "        text-align: right;\n",
       "    }\n",
       "</style>\n",
       "<table border=\"1\" class=\"dataframe\">\n",
       "  <thead>\n",
       "    <tr style=\"text-align: right;\">\n",
       "      <th></th>\n",
       "      <th>Review_Title</th>\n",
       "      <th>Review_Text</th>\n",
       "      <th>Verified_Buyer</th>\n",
       "      <th>Review_Date</th>\n",
       "      <th>Review_Location</th>\n",
       "      <th>Review_Upvotes</th>\n",
       "      <th>Review_Downvotes</th>\n",
       "      <th>Product</th>\n",
       "      <th>Brand</th>\n",
       "      <th>Scrape_Date</th>\n",
       "      <th>Issue_Counts</th>\n",
       "      <th>Sentiments</th>\n",
       "    </tr>\n",
       "  </thead>\n",
       "  <tbody>\n",
       "    <tr>\n",
       "      <th>0</th>\n",
       "      <td>Perfect</td>\n",
       "      <td>love using face shower . heat give light scrub nicely</td>\n",
       "      <td>No</td>\n",
       "      <td>15 days ago</td>\n",
       "      <td>Undisclosed</td>\n",
       "      <td>0</td>\n",
       "      <td>0</td>\n",
       "      <td>Multi-Vitamin Thermafoliant</td>\n",
       "      <td>Dermalogica</td>\n",
       "      <td>3/27/23</td>\n",
       "      <td>{}</td>\n",
       "      <td>{'neg': 0.0, 'neu': 0.496, 'pos': 0.504, 'compound': 0.7964}</td>\n",
       "    </tr>\n",
       "  </tbody>\n",
       "</table>\n",
       "</div>"
      ],
      "text/plain": [
       "  Review_Title                                            Review_Text   \n",
       "0      Perfect  love using face shower . heat give light scrub nicely  \\\n",
       "\n",
       "  Verified_Buyer  Review_Date Review_Location  Review_Upvotes   \n",
       "0             No  15 days ago     Undisclosed               0  \\\n",
       "\n",
       "   Review_Downvotes                      Product        Brand Scrape_Date   \n",
       "0                 0  Multi-Vitamin Thermafoliant  Dermalogica     3/27/23  \\\n",
       "\n",
       "  Issue_Counts                                                    Sentiments  \n",
       "0           {}  {'neg': 0.0, 'neu': 0.496, 'pos': 0.504, 'compound': 0.7964}  "
      ]
     },
     "execution_count": 92,
     "metadata": {},
     "output_type": "execute_result"
    }
   ],
   "source": [
    "data.head(1) #to confirm our Sentiments column has been created with series"
   ]
  },
  {
   "cell_type": "code",
   "execution_count": 94,
   "id": "fb7a674e-a854-4a4e-978c-ae6f171eb19c",
   "metadata": {},
   "outputs": [
    {
     "data": {
      "text/html": [
       "<div>\n",
       "<style scoped>\n",
       "    .dataframe tbody tr th:only-of-type {\n",
       "        vertical-align: middle;\n",
       "    }\n",
       "\n",
       "    .dataframe tbody tr th {\n",
       "        vertical-align: top;\n",
       "    }\n",
       "\n",
       "    .dataframe thead th {\n",
       "        text-align: right;\n",
       "    }\n",
       "</style>\n",
       "<table border=\"1\" class=\"dataframe\">\n",
       "  <thead>\n",
       "    <tr style=\"text-align: right;\">\n",
       "      <th></th>\n",
       "      <th>Review_Title</th>\n",
       "      <th>Review_Text</th>\n",
       "      <th>Verified_Buyer</th>\n",
       "      <th>Review_Date</th>\n",
       "      <th>Review_Location</th>\n",
       "      <th>Review_Upvotes</th>\n",
       "      <th>Review_Downvotes</th>\n",
       "      <th>Product</th>\n",
       "      <th>Brand</th>\n",
       "      <th>Scrape_Date</th>\n",
       "      <th>Issue_Counts</th>\n",
       "      <th>Sentiments</th>\n",
       "      <th>compound_score</th>\n",
       "    </tr>\n",
       "  </thead>\n",
       "  <tbody>\n",
       "    <tr>\n",
       "      <th>0</th>\n",
       "      <td>Perfect</td>\n",
       "      <td>love using face shower . heat give light scrub nicely</td>\n",
       "      <td>No</td>\n",
       "      <td>15 days ago</td>\n",
       "      <td>Undisclosed</td>\n",
       "      <td>0</td>\n",
       "      <td>0</td>\n",
       "      <td>Multi-Vitamin Thermafoliant</td>\n",
       "      <td>Dermalogica</td>\n",
       "      <td>3/27/23</td>\n",
       "      <td>{}</td>\n",
       "      <td>{'neg': 0.0, 'neu': 0.496, 'pos': 0.504, 'compound': 0.7964}</td>\n",
       "      <td>0.7964</td>\n",
       "    </tr>\n",
       "  </tbody>\n",
       "</table>\n",
       "</div>"
      ],
      "text/plain": [
       "  Review_Title                                            Review_Text   \n",
       "0      Perfect  love using face shower . heat give light scrub nicely  \\\n",
       "\n",
       "  Verified_Buyer  Review_Date Review_Location  Review_Upvotes   \n",
       "0             No  15 days ago     Undisclosed               0  \\\n",
       "\n",
       "   Review_Downvotes                      Product        Brand Scrape_Date   \n",
       "0                 0  Multi-Vitamin Thermafoliant  Dermalogica     3/27/23  \\\n",
       "\n",
       "  Issue_Counts                                                    Sentiments   \n",
       "0           {}  {'neg': 0.0, 'neu': 0.496, 'pos': 0.504, 'compound': 0.7964}  \\\n",
       "\n",
       "   compound_score  \n",
       "0          0.7964  "
      ]
     },
     "execution_count": 94,
     "metadata": {},
     "output_type": "execute_result"
    }
   ],
   "source": [
    "#compound score is a score between -1 and 1 and we will be making compound score a column here\n",
    "data[\"compound_score\"] = data[\"Review_Text\"].apply(lambda x: SIA.polarity_scores(x)[\"compound\"])\n",
    "data.head(1)"
   ]
  },
  {
   "cell_type": "code",
   "execution_count": 96,
   "id": "ea317ec9-9701-42b6-b3da-4de3919ff2f1",
   "metadata": {},
   "outputs": [],
   "source": [
    "#Let's create a new column that groups the compound score ti either negative or positive\n",
    "data['sentiment_label'] = data['Review_Text'].apply(lambda x: 'positive' if SIA.polarity_scores(x)['compound'] > 0 else 'negative')"
   ]
  },
  {
   "cell_type": "code",
   "execution_count": 98,
   "id": "cba1ff5c-d23c-4ed2-891e-60575727c904",
   "metadata": {},
   "outputs": [
    {
     "data": {
      "text/plain": [
       "sentiment_label\n",
       "positive    0.908828\n",
       "negative    0.091172\n",
       "Name: proportion, dtype: float64"
      ]
     },
     "execution_count": 98,
     "metadata": {},
     "output_type": "execute_result"
    }
   ],
   "source": [
    "data['sentiment_label'].value_counts(normalize=True)"
   ]
  },
  {
   "cell_type": "raw",
   "id": "da45d118-cd60-4fdd-9da8-80757984a248",
   "metadata": {},
   "source": [
    "From the sentiment analysis, we can conclude we have90.88% of positive words and 9.12% of negative words"
   ]
  }
 ],
 "metadata": {
  "colab": {
   "provenance": []
  },
  "kernelspec": {
   "display_name": "Python (other-env)",
   "language": "python",
   "name": "classstuff"
  },
  "language_info": {
   "codemirror_mode": {
    "name": "ipython",
    "version": 3
   },
   "file_extension": ".py",
   "mimetype": "text/x-python",
   "name": "python",
   "nbconvert_exporter": "python",
   "pygments_lexer": "ipython3",
   "version": "3.10.9"
  }
 },
 "nbformat": 4,
 "nbformat_minor": 5
}
